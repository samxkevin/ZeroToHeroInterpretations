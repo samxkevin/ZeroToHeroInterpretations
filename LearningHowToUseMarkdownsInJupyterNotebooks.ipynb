{
 "cells": [
  {
   "cell_type": "markdown",
   "metadata": {},
   "source": [
    "I just wanted to share with you guys how to use Jupyter notebooks or things I learnt in that process...\n",
    "\n",
    "Markdown cells in jupyter notebook help us to write explainations for our code with many options to format them or customize them in our own way.\n",
    "\n",
    "Edit these Markdowns (if you are viewing this in vscode) to better understand or switch to code view (in github)...\n",
    "\n",
    "Remember that the spaces(or whitespaces in the text) used in this case are very important and failure in placing them appropriately shall result in improper formatting."
   ]
  },
  {
   "cell_type": "markdown",
   "metadata": {},
   "source": [
    "For __HEADINGS__:\n",
    "\n",
    "We use `#` in this case:\n",
    "\n",
    "> # Heading 1 --large heading\n",
    "> ## Heading 2 --medium heading \n",
    "> ### Heading 3 --small heading\n",
    "\n",
    "If you are viewing this Markdown in edit mode you must not neccesarily place the `<` (block quote) in the beginning, I placed them just for understanding."
   ]
  },
  {
   "cell_type": "markdown",
   "metadata": {},
   "source": [
    "For __Text Formatting__:\n",
    "\n",
    "We use `_` for:\n",
    "\n",
    "__bold__,\n",
    "_italic_\n",
    "\n",
    "And `~` for:\n",
    "\n",
    "~~strikethrough~~"
   ]
  },
  {
   "cell_type": "markdown",
   "metadata": {},
   "source": [
    "For __Lists:__ \n",
    "\n",
    "We use `-` , `*` and `+` for __Unordered Lists__:\n",
    "- 1st item\n",
    "- 2nd item\n",
    "\n",
    "Or numbered for __Ordered Lists__:\n",
    "\n",
    "1. First item\n",
    "\n",
    "2. Second item"
   ]
  },
  {
   "cell_type": "markdown",
   "metadata": {},
   "source": [
    "For __Links__:\n",
    "\n",
    "We use `[text](url)` syntax in this case:\n",
    "\n",
    "[KMCE](http://kmce.in/)"
   ]
  },
  {
   "cell_type": "markdown",
   "metadata": {},
   "source": [
    "To insert __images__ in your Jupyter notebook:\n",
    "\n",
    "in this case `![alt text](image_url)`\n",
    "\n",
    "![KMCE logo](https://encrypted-tbn0.gstatic.com/images?q=tbn:ANd9GcQDm8bYv77GOltvRdEeWzFjb_MkjaKiSfD-sg&s)"
   ]
  },
  {
   "cell_type": "markdown",
   "metadata": {},
   "source": [
    "For __Blockquotes__:\n",
    "\n",
    "> We Use this for blockquotes... "
   ]
  },
  {
   "cell_type": "markdown",
   "metadata": {},
   "source": [
    "For __Tables__:\n",
    "\n",
    "| Category 1 | Category 2 |\n",
    "| ------ | -------- |\n",
    "| Value 1 | Value 2 |"
   ]
  },
  {
   "cell_type": "markdown",
   "metadata": {},
   "source": [
    "For __Mathematical Equations__:\n",
    "\n",
    "Jupyter Notebook supports [LaTeX syntax](https://www1.cmc.edu/pages/faculty/aaksoy/latex/latexthree.html) for math equations. Use single dollar signs for inline equations and double dollar signs for block equations.\n",
    "\n",
    "Inline: $b^2-4ac$\n",
    "\n",
    "or Block:\n",
    "$$b^2\n",
    "-4\n",
    "ac$$"
   ]
  },
  {
   "cell_type": "markdown",
   "metadata": {},
   "source": [
    "For __Horizontal lines__:\n",
    "\n",
    "\n",
    "We use `---` , `***` or `___`\n",
    "\n",
    "--- \n",
    "We format a Horizontal Line this way..."
   ]
  },
  {
   "cell_type": "markdown",
   "metadata": {},
   "source": [
    "For __Inline Code__:\n",
    "\n",
    "We use backsticks(`` ` ``) for inline code blocks:\n",
    "\n",
    "We use the `print()` function to display output in Python.\n",
    "\n",
    "For __Code Blocks(Multi-lined Code)__:\n",
    "\n",
    "We use triple backticks(`` ``` ``) in the beginning and at the end of the code. If needed we can specify the rogramming language right after the opening triple backticks for syntax highlighting.\n",
    "\n",
    "Here’s an example of a simple Python function:\n",
    "\n",
    "```python\n",
    "def add2num(x,y):\n",
    "    return x+y\n",
    "\n",
    "print(add2num(1,2))\n",
    "```"
   ]
  },
  {
   "cell_type": "markdown",
   "metadata": {},
   "source": [
    "For __INDEX__:\n",
    "\n",
    "We can create index and navigate through the contents of the notebook this way...\n",
    "\n",
    "> ### Table of Contents\n",
    "> - [Introduction](#introduction)\n",
    "> - [Data Analysis](#data-analysis)\n",
    "> - [Visualization](#visualization)\n",
    "> ### Introduction\n",
    "> This section introduces...\n",
    "> ### Data Analysis\n",
    "> In this section, we analyze...\n",
    "> ### Visualization\n",
    "> Here, we visualize...\n",
    "\n",
    "If you are viewing this Markdown in edit mode you must not neccesarily place the `<` (block quote) in the beginning, I placed them just for understanding."
   ]
  },
  {
   "cell_type": "markdown",
   "metadata": {},
   "source": [
    "_Isn't it amazing!_\n",
    "\n",
    "Anyways... That's it for now!\n",
    "\n",
    "Conclsion: By mastering Markdowns we can make explanations easy to understand for us and also to others. Personally, I feel so happy to learn that Jupyter notebooks are really helpful to  make our learning so easy. At last, that's the only thing we guys actually do.\n",
    "PEACE."
   ]
  }
 ],
 "metadata": {
  "language_info": {
   "name": "python"
  }
 },
 "nbformat": 4,
 "nbformat_minor": 2
}
