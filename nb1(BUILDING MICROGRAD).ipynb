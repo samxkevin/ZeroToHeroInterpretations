{
 "cells": [
  {
   "cell_type": "markdown",
   "metadata": {},
   "source": [
    "Interpretation For the First Video: \n",
    "[The spelled-out intro to neural networks and backpropagation: building micrograd](https://youtu.be/VMj-3S1tku0?si=8FQ4c7gDBBAXCdci)\n",
    "\n",
    "This notebook has been created upon the suggestion by Neil sir to go through the Andrej Kaparthy video regarding Neural Networks.\n",
    "\n",
    "Let's Title this notebook as:\n",
    "\n",
    "# __BUILDING MICROGRAD__ \n",
    "_as it fits the video..._"
   ]
  },
  {
   "cell_type": "markdown",
   "metadata": {},
   "source": [
    "# __Index:__\n",
    "- [Takeaways](#takeaways)\n",
    "- [Micrograd Overview](#micrograd)\n",
    "    - [Explanation by an Example](#Example)"
   ]
  },
  {
   "cell_type": "markdown",
   "metadata": {},
   "source": [
    "### __Takeaways__:\n",
    "By the end of this Lecture, we will understand:\n",
    "\n",
    "- The basic structure and purpose of neural networks.\n",
    "- How to define and train a neural network using Micrograd.\n",
    "- The step-by-step process of backpropagation and how it tunes weights.\n",
    "- How an autograd engine works and its role in gradient calculation.\n",
    "- Practical application and experimentation using Micrograd’s minimalistic approach."
   ]
  },
  {
   "cell_type": "markdown",
   "metadata": {},
   "source": [
    "### __Micrograd Overview__:\n",
    "Micrograd is a small library that demonstrates how an automatic differentiation engine (autograd engine for short) works. It uses something called a computational graph (or expression graph) to keep track of operations between values. The main idea is to build this graph as you perform operations and then use [Backpropagation](#Backpropagation) to compute derivatives or gradients.\n",
    "#### Example:"
   ]
  },
  {
   "cell_type": "code",
   "execution_count": 3,
   "metadata": {},
   "outputs": [],
   "source": [
    "from micrograd.engine import Value\n",
    "a = Value(-4.0)\n",
    "b = Value(2.0)"
   ]
  },
  {
   "cell_type": "markdown",
   "metadata": {},
   "source": [
    "Here, we create two Value objects: `a` with `-4.0` and `b` with `2.0`. These objects not only store their numerical values but also keep track of gradients and the operations they participate in."
   ]
  },
  {
   "cell_type": "code",
   "execution_count": 4,
   "metadata": {},
   "outputs": [],
   "source": [
    "c = a + b"
   ]
  },
  {
   "cell_type": "markdown",
   "metadata": {},
   "source": [
    "The code `c = a + b` creates a Value object c that's the sum of `a` and `b`. This operation is stored in the computational graph, forming a simple graph with `c` dependent on `a` and `b`."
   ]
  },
  {
   "cell_type": "code",
   "execution_count": 5,
   "metadata": {},
   "outputs": [],
   "source": [
    "c += c + 1\n",
    "c += 1 + c + (-a)"
   ]
  },
  {
   "cell_type": "markdown",
   "metadata": {},
   "source": [
    "- `c += c + 1`: This statement updates the value of `c` by adding `c + 1` to it. The expression graph records `c`'s dependency on its previous value, another instance of itself, and the constant `1`.\n",
    "- `c += 1 + c + (-a)`: This statement updates `c` by adding `1 + c + (-a)` to it. Now, `c` depends on the constant `1`, another instance of itself, and the negative of `a`. The computational graph continues to grow, with `c` linked to all these operations and values."
   ]
  },
  {
   "cell_type": "code",
   "execution_count": 6,
   "metadata": {},
   "outputs": [
    {
     "name": "stdout",
     "output_type": "stream",
     "text": [
      "-1.0\n"
     ]
    }
   ],
   "source": [
    "print(c.data) #output: -1.0"
   ]
  },
  {
   "cell_type": "markdown",
   "metadata": {},
   "source": [
    "The final value of `c` is `-1.0`, resulting from a sequence of additions and transformations involving `a` and `b`."
   ]
  },
  {
   "cell_type": "code",
   "execution_count": 7,
   "metadata": {},
   "outputs": [],
   "source": [
    "c.backward()"
   ]
  },
  {
   "cell_type": "markdown",
   "metadata": {},
   "source": [
    "##### Backpropagation:\n",
    "When you call `c.backward()`, Micrograd computes the gradients of `c` with respect to `a` and `b` by traversing the expression graph backwards. It applies the chain rule to determine how changes in `a` and `b` influence `c`. This is known as Backpropagation. Backpropagation is an algorithm used in neural networks to compute gradients. It works by propagating the error backward through the network, applying the chain rule to calculate the gradient of the loss function with respect to each weight. This enables the network to update weights and minimize the error, improving its performance during training."
   ]
  },
  {
   "cell_type": "code",
   "execution_count": 8,
   "metadata": {},
   "outputs": [
    {
     "name": "stdout",
     "output_type": "stream",
     "text": [
      "3\n",
      "4\n"
     ]
    }
   ],
   "source": [
    "print(a.grad) #output: 3.0\n",
    "print(b.grad) #output: 4.0"
   ]
  },
  {
   "cell_type": "markdown",
   "metadata": {},
   "source": [
    "As a result:\n",
    "\n",
    "* **Gradient of `a` (`a.grad`)**: `3.0`\n",
    "* **Gradient of `b` (`b.grad`)**: `4.0`\n",
    "\n",
    "This means:\n",
    "* A small change in `a` causes a change in `c` three times as large.\n",
    "* A small change in `b` causes a change in `c` four times as large.\n",
    "\n",
    "The expression graph tracks all dependencies, and backpropagation efficiently calculates these gradients. This process is fundamental in neural networks, allowing for weight updates during training to minimize loss. Backpropagation applies to many operations, including in Multi-Layered Perceptrons (MLPs), where inputs and weights interact through matrix operations. Starting from `c`, the gradient is computed by applying the chain rule recursively to all nodes in the expression graph influencing `c`."
   ]
  },
  {
   "cell_type": "markdown",
   "metadata": {},
   "source": [
    "Neural Network are just mathematical expressions that take input data and weights as the input and output data are your predictions or the loss functions. But in the case of Backpropagation it is more general and it doesn't care about the network what it cares about are just mathematical expressions. And we use this for training of neural networks.\n",
    "\n",
    "So Micrograd is basically what we need to train neural networks and everything else is just efficiency(usage of n-dimensional tensors and memory allocation). So You think that it could be a very complex piece of code but that turns out to not to be the case where you see that it is just [barely 100 lines of code of simple python](https://github.com/karpathy/micrograd/blob/master/micrograd/engine.py)\n",
    "##### __Installation__:\n",
    "Run the following command in your shell:\n",
    "`pip install micrograd`\n"
   ]
  },
  {
   "cell_type": "markdown",
   "metadata": {},
   "source": [
    "### __Implementing Micrograd__:\n",
    "##### Derivative Of a Simple Function with One Input:\n",
    "Derivatives quantify how changes in an input affect the output, showing the rate of change of a function. In neural networks, partial derivatives reveal each input’s impact on the output, crucial for adjusting parameters and optimizing models. Again let's deep dive to understand this with an \n",
    "##### __Example__:"
   ]
  },
  {
   "cell_type": "code",
   "execution_count": 13,
   "metadata": {},
   "outputs": [],
   "source": [
    "import numpy as np\n",
    "import matplotlib.pyplot as plt\n",
    "%matplotlib inline\n",
    "def f(x):\n",
    "    return x**2-x-6\n",
    "f(3)\n",
    "abscissae=np.arange(-5,5,0.25)"
   ]
  },
  {
   "cell_type": "markdown",
   "metadata": {},
   "source": [
    "Set of Values of x from -5 to 5 in steps of 0.25 but not including 5"
   ]
  },
  {
   "cell_type": "code",
   "execution_count": 14,
   "metadata": {},
   "outputs": [
    {
     "data": {
      "text/plain": [
       "array([-5.  , -4.75, -4.5 , -4.25, -4.  , -3.75, -3.5 , -3.25, -3.  ,\n",
       "       -2.75, -2.5 , -2.25, -2.  , -1.75, -1.5 , -1.25, -1.  , -0.75,\n",
       "       -0.5 , -0.25,  0.  ,  0.25,  0.5 ,  0.75,  1.  ,  1.25,  1.5 ,\n",
       "        1.75,  2.  ,  2.25,  2.5 ,  2.75,  3.  ,  3.25,  3.5 ,  3.75,\n",
       "        4.  ,  4.25,  4.5 ,  4.75])"
      ]
     },
     "execution_count": 14,
     "metadata": {},
     "output_type": "execute_result"
    }
   ],
   "source": [
    "abscissae"
   ]
  },
  {
   "cell_type": "markdown",
   "metadata": {},
   "source": [
    "After plotting those values we get a Parabola."
   ]
  },
  {
   "cell_type": "code",
   "execution_count": 16,
   "metadata": {},
   "outputs": [
    {
     "data": {
      "text/plain": [
       "[<matplotlib.lines.Line2D at 0x1c7a1c96cc0>]"
      ]
     },
     "execution_count": 16,
     "metadata": {},
     "output_type": "execute_result"
    },
    {
     "data": {
      "image/png": "[encoded data removed]",
      "text/plain": [
       "<Figure size 640x480 with 1 Axes>"
      ]
     },
     "metadata": {},
     "output_type": "display_data"
    }
   ],
   "source": [
    "ordinates=f(abscissae)\n",
    "plt.plot(abscissae,ordinates)"
   ]
  },
  {
   "cell_type": "markdown",
   "metadata": {},
   "source": [
    "#### __Derivative of a Function__:\n",
    "The Derivative shows how a function’s value changes with a small input change.\n",
    "- If the function increases, the derivative is positive.\n",
    "- If it decreases, the derivative is negative.\n",
    "It indicates the direction and rate of change at that point.\n",
    "So,\n",
    "$$f'(x) = \\lim_{{h \\to 0}} \\frac{{f(x + h)-f(x)}}{h}$$\n",
    "Executing this we get:"
   ]
  },
  {
   "cell_type": "code",
   "execution_count": 18,
   "metadata": {},
   "outputs": [
    {
     "data": {
      "text/plain": [
       "3.0009999999998094"
      ]
     },
     "execution_count": 18,
     "metadata": {},
     "output_type": "execute_result"
    }
   ],
   "source": [
    "h=0.001\n",
    "x=2\n",
    "(f(x+h)-f(x))/h"
   ]
  },
  {
   "cell_type": "markdown",
   "metadata": {},
   "source": [
    "In Deep Learning, frameworks use backpropagation to automatically compute derivatives. For example, for $ f(x)=x^2-x-6 $, the derivative is $f'(x)=2x-1$. At $x=2$, it equals $3$, which matches the code output. Automatic differentiation makes manual calculation unnecessary."
   ]
  },
  {
   "cell_type": "markdown",
   "metadata": {},
   "source": []
  }
 ],
 "metadata": {
  "kernelspec": {
   "display_name": ".venv",
   "language": "python",
   "name": "python3"
  },
  "language_info": {
   "codemirror_mode": {
    "name": "ipython",
    "version": 3
   },
   "file_extension": ".py",
   "mimetype": "text/x-python",
   "name": "python",
   "nbconvert_exporter": "python",
   "pygments_lexer": "ipython3",
   "version": "3.12.2"
  }
 },
 "nbformat": 4,
 "nbformat_minor": 2
}
