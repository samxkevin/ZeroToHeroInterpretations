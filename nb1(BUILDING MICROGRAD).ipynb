{
 "cells": [
  {
   "cell_type": "markdown",
   "metadata": {},
   "source": [
    "Interpretation For the First Video: \n",
    "[The spelled-out intro to neural networks and backpropagation: building micrograd](https://youtu.be/VMj-3S1tku0?si=8FQ4c7gDBBAXCdci)\n",
    "\n",
    "This notebook has been created upon the suggestion by Neil sir to go through the Andrej Kaparthy video regarding Neural Networks.\n",
    "\n",
    "Let's Title this notebook as:\n",
    "\n",
    "# __BUILDING MICROGRAD__ \n",
    "_as it fits the video..._"
   ]
  },
  {
   "cell_type": "markdown",
   "metadata": {},
   "source": [
    "# __Index:__\n",
    "- [Takeaways](#takeaways)\n",
    "- [Micrograd Overview](#micrograd)\n",
    "    - [Explanation by an Example](#Example)"
   ]
  },
  {
   "cell_type": "markdown",
   "metadata": {},
   "source": [
    "### __Takeaways__:\n",
    "By the end of this Lecture, we will understand:\n",
    "\n",
    "- The basic structure and purpose of neural networks.\n",
    "- How to define and train a neural network using Micrograd.\n",
    "- The step-by-step process of backpropagation and how it tunes weights.\n",
    "- How an autograd engine works and its role in gradient calculation.\n",
    "- Practical application and experimentation using Micrograd’s minimalistic approach."
   ]
  },
  {
   "cell_type": "markdown",
   "metadata": {},
   "source": [
    "```Bash\n",
    "pip install numpy\n",
    "pip install micrograd\n",
    "pip install matplotlib\n",
    "```\n",
    "Execute the above commands in your shell to install the requirements for this Lecture."
   ]
  },
  {
   "cell_type": "markdown",
   "metadata": {},
   "source": [
    "### __Micrograd Overview__:\n",
    "Micrograd is a small library that demonstrates how an automatic differentiation engine (autograd engine for short) works. It uses something called a computational graph (or expression graph) to keep track of operations between values. The main idea is to build this graph as you perform operations and then use [Backpropagation](#Backpropagation) to compute derivatives or gradients.\n",
    "#### Example:"
   ]
  },
  {
   "cell_type": "code",
   "execution_count": 1,
   "metadata": {},
   "outputs": [],
   "source": [
    "from micrograd.engine import Value\n",
    "a = Value(-4.0)\n",
    "b = Value(2.0)"
   ]
  },
  {
   "cell_type": "markdown",
   "metadata": {},
   "source": [
    "Here, we create two Value objects: `a` with `-4.0` and `b` with `2.0`. These objects not only store their numerical values but also keep track of gradients and the operations they participate in."
   ]
  },
  {
   "cell_type": "code",
   "execution_count": 2,
   "metadata": {},
   "outputs": [],
   "source": [
    "c = a + b"
   ]
  },
  {
   "cell_type": "markdown",
   "metadata": {},
   "source": [
    "The code `c = a + b` creates a Value object c that's the sum of `a` and `b`. This operation is stored in the computational graph, forming a simple graph with `c` dependent on `a` and `b`."
   ]
  },
  {
   "cell_type": "code",
   "execution_count": 3,
   "metadata": {},
   "outputs": [],
   "source": [
    "c += c + 1\n",
    "c += 1 + c + (-a)"
   ]
  },
  {
   "cell_type": "markdown",
   "metadata": {},
   "source": [
    "- `c += c + 1`: This statement updates the value of `c` by adding `c + 1` to it. The expression graph records `c`'s dependency on its previous value, another instance of itself, and the constant `1`.\n",
    "- `c += 1 + c + (-a)`: This statement updates `c` by adding `1 + c + (-a)` to it. Now, `c` depends on the constant `1`, another instance of itself, and the negative of `a`. The computational graph continues to grow, with `c` linked to all these operations and values."
   ]
  },
  {
   "cell_type": "code",
   "execution_count": null,
   "metadata": {},
   "outputs": [],
   "source": [
    "print(c.data) #output: -1.0"
   ]
  },
  {
   "cell_type": "markdown",
   "metadata": {},
   "source": [
    "The final value of `c` is `-1.0`, resulting from a sequence of additions and transformations involving `a` and `b`."
   ]
  },
  {
   "cell_type": "code",
   "execution_count": 5,
   "metadata": {},
   "outputs": [],
   "source": [
    "c.backward()"
   ]
  },
  {
   "cell_type": "markdown",
   "metadata": {},
   "source": [
    "##### Backpropagation:\n",
    "When you call `c.backward()`, Micrograd computes the gradients of `c` with respect to `a` and `b` by traversing the expression graph backwards. It applies the chain rule to determine how changes in `a` and `b` influence `c`. This is known as Backpropagation. Backpropagation is an algorithm used in neural networks to compute gradients. It works by propagating the error backward through the network, applying the chain rule to calculate the gradient of the loss function with respect to each weight. This enables the network to update weights and minimize the error, improving its performance during training."
   ]
  },
  {
   "cell_type": "code",
   "execution_count": null,
   "metadata": {},
   "outputs": [],
   "source": [
    "print(a.grad) #output: 3.0\n",
    "print(b.grad) #output: 4.0"
   ]
  },
  {
   "cell_type": "markdown",
   "metadata": {},
   "source": [
    "As a result:\n",
    "\n",
    "* **Gradient of `a` (`a.grad`)**: `3.0`\n",
    "* **Gradient of `b` (`b.grad`)**: `4.0`\n",
    "\n",
    "This means:\n",
    "* A small change in `a` causes a change in `c` three times as large.\n",
    "* A small change in `b` causes a change in `c` four times as large.\n",
    "\n",
    "The expression graph tracks all dependencies, and backpropagation efficiently calculates these gradients. This process is fundamental in neural networks, allowing for weight updates during training to minimize loss. Backpropagation applies to many operations, including in Multi-Layered Perceptrons (MLPs), where inputs and weights interact through matrix operations. Starting from `c`, the gradient is computed by applying the chain rule recursively to all nodes in the expression graph influencing `c`."
   ]
  },
  {
   "cell_type": "markdown",
   "metadata": {},
   "source": [
    "Neural Network are just mathematical expressions that take input data and weights as the input and output data are your predictions or the loss functions. But in the case of Backpropagation it is more general and it doesn't care about the network what it cares about are just mathematical expressions. And we use this for training of neural networks.\n",
    "\n",
    "So Micrograd is basically what we need to train neural networks and everything else is just efficiency(usage of n-dimensional tensors and memory allocation). So You think that it could be a very complex piece of code but that turns out to not to be the case where you see that it is just [barely 100 lines of code of simple python](https://github.com/karpathy/micrograd/blob/master/micrograd/engine.py)\n",
    "##### __Installation__:\n",
    "Run the following command in your shell:\n",
    "`pip install micrograd`\n"
   ]
  },
  {
   "cell_type": "markdown",
   "metadata": {},
   "source": [
    "### __Implementing Micrograd__:\n",
    "##### Derivative Of a Simple Function with One Input:\n",
    "Derivatives quantify how changes in an input affect the output, showing the rate of change of a function. In neural networks, partial derivatives reveal each input’s impact on the output, crucial for adjusting parameters and optimizing models. Again let's deep dive to understand this with an \n",
    "##### __Example__:"
   ]
  },
  {
   "cell_type": "code",
   "execution_count": 7,
   "metadata": {},
   "outputs": [],
   "source": [
    "import numpy as np\n",
    "import matplotlib.pyplot as plt\n",
    "%matplotlib inline\n",
    "def f(x):\n",
    "    return x**2-x-6\n",
    "f(3)\n",
    "abscissae=np.arange(-5,5,0.25)"
   ]
  },
  {
   "cell_type": "markdown",
   "metadata": {},
   "source": [
    "Set of Values of x from -5 to 5 in steps of 0.25 but not including 5"
   ]
  },
  {
   "cell_type": "code",
   "execution_count": null,
   "metadata": {},
   "outputs": [],
   "source": [
    "abscissae"
   ]
  },
  {
   "cell_type": "markdown",
   "metadata": {},
   "source": [
    "After plotting those values we get a Parabola."
   ]
  },
  {
   "cell_type": "code",
   "execution_count": null,
   "metadata": {},
   "outputs": [],
   "source": [
    "ordinates=f(abscissae)\n",
    "plt.plot(abscissae,ordinates)"
   ]
  },
  {
   "cell_type": "markdown",
   "metadata": {},
   "source": [
    "### __Derivative of a Function__:\n",
    "The Derivative shows how a function’s value changes with a small input change.\n",
    "- If the function increases, the derivative is positive.\n",
    "- If it decreases, the derivative is negative.\n",
    "It indicates the direction and rate of change at that point.\n",
    "So,\n",
    ">$$f'(x) = \\lim_{{h \\to 0}} \\frac{{f(x + h)-f(x)}}{h}$$\n",
    "Executing this we get:"
   ]
  },
  {
   "cell_type": "code",
   "execution_count": null,
   "metadata": {},
   "outputs": [],
   "source": [
    "h=0.001\n",
    "x=2\n",
    "(f(x+h)-f(x))/h"
   ]
  },
  {
   "cell_type": "markdown",
   "metadata": {},
   "source": [
    "In Deep Learning, frameworks use backpropagation to automatically compute derivatives. For example, for $ f(x)=x^2-x-6 $, the derivative is $f'(x)=2x-1$. At $x=2$, it equals $3$, which matches the code output. Automatic differentiation makes manual calculation unnecessary.\n",
    "\n",
    "Now Lets get a little bit more complex for this case i.e., $3$ inputs and $1$ output."
   ]
  },
  {
   "cell_type": "code",
   "execution_count": null,
   "metadata": {},
   "outputs": [],
   "source": [
    "a=1.0\n",
    "b=2.0\n",
    "c=3.0\n",
    "r=a*b-c\n",
    "print(r)"
   ]
  },
  {
   "cell_type": "markdown",
   "metadata": {},
   "source": [
    "Now lets compute the Derivative of this function considering the small input change i.e., $h$ to be $0.001$ which shall be done with respect to $a$. So,"
   ]
  },
  {
   "cell_type": "code",
   "execution_count": null,
   "metadata": {},
   "outputs": [],
   "source": [
    "h=0.0001\n",
    "a+=h\n",
    "H=a*b-c\n",
    "print((H-r)/h)\n",
    "a=1.0"
   ]
  },
  {
   "cell_type": "markdown",
   "metadata": {},
   "source": [
    "The Result derived above is the Partial Derivative of the function $r$ i.e. $a*b-c$ with respect to $a$. The variable $a$ in this aspect is being restored to the original value since the derivative of the function $r$ changes as we run the above code block again and again which would be confusing to us.Which highlights a need to return variables to their initial state to avoid cumulative changes, which can otherwise misrepresent derivative calculations or confuse gradient tracking when rerunning code blocks. This happens because we are adding the value of $h$ again and again as we are rerunning the Code blocks.\n",
    ">The partial derivative shows how a function's output varies with each input."
   ]
  },
  {
   "cell_type": "markdown",
   "metadata": {},
   "source": [
    "### __Starting The Core `Value` object of Micrograd and its Visualization:__\n",
    "Now, let's move onto Neural Networks. Neural Networks consist of complex mathematical expressions managed through data structures like the `Value` object, which stores values and tracks gradients. Similar to resetting `a` after each derivative calculation, the `Value` object resets its state to avoid unintended changes, ensuring accurate gradient computations and efficient backpropagation for optimizing network parameters.\n",
    "This Chapter, we are going to build out the `Value` object. Below is the Skeleton of the `Value` Object."
   ]
  },
  {
   "cell_type": "code",
   "execution_count": 13,
   "metadata": {},
   "outputs": [],
   "source": [
    "class Value:\n",
    "    def __init__(self, data):\n",
    "        self.data = data\n",
    "    def __repr__(self):\n",
    "        return f\"Value(data={self.data})\"\n",
    "    def __add__(self,other): #this is defined explicitly for the addition of two `Value` objects\n",
    "        return Value(self.data+other.data)\n",
    "    def __mul__(self,other): #this is defined explicitly for the multiplication of two `Value` objects\n",
    "        return Value(self.data*other.data)"
   ]
  },
  {
   "cell_type": "markdown",
   "metadata": {},
   "source": [
    "`__repr__` is there to make the object more understandable when printed, instead of just showing the raw memory address\n",
    "__`class Value`__ takes a single scalar value, wraps it, and represents it as __`Value(data=value)`__.\n",
    "\n",
    "For example, if do a value of 2.0 if will return a string. `Value(data=2.0)`"
   ]
  },
  {
   "cell_type": "code",
   "execution_count": null,
   "metadata": {},
   "outputs": [],
   "source": [
    "a=Value(2.0)\n",
    "print(a)"
   ]
  },
  {
   "cell_type": "markdown",
   "metadata": {},
   "source": [
    "If there is `grad=0` also appearing in result, it is because of multiple uses of `grad()` in previous code cells. "
   ]
  },
  {
   "cell_type": "markdown",
   "metadata": {},
   "source": [
    "##### __Linear Combination in `Value` Objects__\n",
    "Let's multiply two `Value` objects and add another `Value` object."
   ]
  },
  {
   "cell_type": "code",
   "execution_count": null,
   "metadata": {},
   "outputs": [],
   "source": [
    "b=Value(-1.0)\n",
    "c=Value(3.0)\n",
    "print(a*b+c)"
   ]
  },
  {
   "cell_type": "markdown",
   "metadata": {},
   "source": [
    "`a*b+c` in the above code cell will internally call:\n",
    ">``` (a.__mul__(b)).__add__(c) ```\n",
    "\n",
    "where `b,c` will be `other` respectively and `a` shall be `self`. Furthermore,\n",
    ">`Value(self.data+other.data)`,`Value(self.data*other.data)`\n",
    "\n",
    "is internally addition, multiplication of simple floating point objects respectively. This functions can be called as __operator overloading functions__."
   ]
  },
  {
   "cell_type": "markdown",
   "metadata": {},
   "source": [
    "### __Computation Graph and Dependencies__:\n",
    "Here, we are missing the connections between nodes of this expression and are not tracking new values that are being produced with the previous values. This is one of the important things to be implemented for operations like __backpropagation__ to work where we traverse the graph in reverse to compute gradients.\n",
    "\n",
    "In frameworks like PyTorch or TensorFlow, such dependency tracking is used to implement autograd, enabling automatic differentiation by traversing the graph of operations.\n",
    "\n",
    "To implement this we introduce a new variable `children`, defaulting to an empty tuple, to track dependencies between values or it tracks which values produce others. Therefore the code shall be upgraded such as:"
   ]
  },
  {
   "cell_type": "code",
   "execution_count": 16,
   "metadata": {},
   "outputs": [],
   "source": [
    "class Value:\n",
    "    def __init__(self, data, _children=()):\n",
    "        self.data=data\n",
    "        self._prev=set(_children)\n",
    "    def __repr__(self):\n",
    "        return f\"Value(data={self.data})\"\n",
    "    def __add__(self,other):\n",
    "        return Value(self.data+other.data,(self,other))\n",
    "    def __mul__(self,other):\n",
    "        return Value(self.data*other.data,(self,other))"
   ]
  },
  {
   "cell_type": "markdown",
   "metadata": {},
   "source": [
    "###### Changes in `Class Value`;\n",
    "Above at line number 2 we give an empty tuple as a parameter to the constructor, at line number 4 `self._prev=set(_children)` is given for storing the unique dependencies of the current Value object using a set, we also pass `(self,other)` to the __operator overloading functions__ (i.e., `__add__`, `__mul__`) to link them to `_children` tuple in line number 8,9."
   ]
  },
  {
   "cell_type": "markdown",
   "metadata": {},
   "source": [
    "Now after passing the values of a, b, c..."
   ]
  },
  {
   "cell_type": "code",
   "execution_count": null,
   "metadata": {},
   "outputs": [],
   "source": [
    "a=Value(2.0)\n",
    "b=Value(-1.0)\n",
    "c=Value(3.0)\n",
    "d=a*b+c\n",
    "print(f\"{d}\\n{d._prev}\")"
   ]
  },
  {
   "cell_type": "markdown",
   "metadata": {},
   "source": [
    "We get `d` as `Value(data=1.0)` and `d._prev` as `{Value(data=3.0), Value(data=-2.0)}`, where `Value(data=-2.0)` is from `a*b` and `Value(data=3.0)` is from `c`. \n",
    "\n",
    "_Remember that,_\n",
    "- `d` returns the string representation of `d` because of the `__repr__` function\n",
    "- `d._prev` contains the dependencies of `d` which is a set."
   ]
  },
  {
   "cell_type": "markdown",
   "metadata": {},
   "source": [
    "By here, we can track `Value` dependencies but not the operations that created them. So we need to make changes in the code so that we can also store the operations. These changes are necessary for precise __backpropagation__, and proper gradient attribution. Therefore, code shall be upgraded as:"
   ]
  },
  {
   "cell_type": "code",
   "execution_count": 18,
   "metadata": {},
   "outputs": [],
   "source": [
    "class Value:\n",
    "    def __init__(self,data,_children=(),_op=''):\n",
    "        self.data=data\n",
    "        self._prev=set(_children)\n",
    "        self._op=_op\n",
    "    def __repr__(self):\n",
    "        return f\"Value(data={self.data})\"\n",
    "    def __add__(self, other):\n",
    "        return  Value(self.data+other.data,(self,other),'+')\n",
    "    def __mul__(self, other):\n",
    "         return Value(self.data*other.data,(self,other),'*')"
   ]
  },
  {
   "cell_type": "markdown",
   "metadata": {},
   "source": [
    "Now, we are also tracking the operations:"
   ]
  },
  {
   "cell_type": "code",
   "execution_count": null,
   "metadata": {},
   "outputs": [],
   "source": [
    "a=Value(2.0)\n",
    "b=Value(-1.0)\n",
    "c=Value(3.0)\n",
    "d=a*b+c\n",
    "print(f\"{d}\\n{d._prev}\\n{d._op}\")"
   ]
  },
  {
   "cell_type": "markdown",
   "metadata": {},
   "source": [
    "Since `d._op` stores `'+'`, representing the last operation (`__add__`) performed to produce `d`.\n",
    "\n",
    "This way we shall only know the last operation applied upon the `Value` object. But this doesn't reveal the relationships between each node and the sequence of operations which led to the final value.\n",
    "Hence, we require a way to visualize the history of our `Value` objects. This is known as __Computational Graph Tracing__."
   ]
  },
  {
   "cell_type": "markdown",
   "metadata": {},
   "source": [
    "###### __Computation Graph__:\n",
    "With the __Computation Graph__ we can:\n",
    "- _Visualize Relationships and Computation Flow_: We recognize how operations connect values, revealing the sequence of operations and their nodes.\n",
    "- _Identify Dependencies_: We know which values rely on others, from this we can trace and debug any errors caused in the process upto to their source.\n",
    "- _Identify Bottlenecks_: We can understand nodes which require more resources and can optimize them for better efficiency.\n",
    "- _Explain complex computations_: Visual graphs provide an intuitive way to explain complex computations to others.\n",
    "To accomplish this, we have to make some changes in the previous code. We add a `label` attribute for our class constructor which is intended only for the Computation Graph."
   ]
  },
  {
   "cell_type": "code",
   "execution_count": 1,
   "metadata": {},
   "outputs": [],
   "source": [
    "class Value:\n",
    "    def __init__(self,data,_children=(),_op='',label=''):\n",
    "        self.data=data\n",
    "        self._prev=set(_children)\n",
    "        self._op=_op\n",
    "        self.label=label\n",
    "    def __repr__(self):\n",
    "        return f\"Value(data={self.data})\"\n",
    "    def __add__(self, other):\n",
    "        return  Value(self.data+other.data,(self,other),'+')\n",
    "    def __mul__(self, other):\n",
    "         return Value(self.data*other.data,(self,other),'*')"
   ]
  },
  {
   "cell_type": "markdown",
   "metadata": {},
   "source": [
    "Now the values passed shall change in acordance with the new attribute `label`:"
   ]
  },
  {
   "cell_type": "code",
   "execution_count": 8,
   "metadata": {},
   "outputs": [
    {
     "name": "stdout",
     "output_type": "stream",
     "text": [
      "Value(data=1.0)\n",
      "{Value(data=3.0), Value(data=-2.0)}\n",
      "+\n"
     ]
    }
   ],
   "source": [
    "a=Value(2.0,label='a')\n",
    "b=Value(-1.0,label='b')\n",
    "c=Value(3.0,label='c')\n",
    "d=a*b+c;d.label='d'\n",
    "print(f\"{d}\\n{d._prev}\\n{d._op}\")"
   ]
  },
  {
   "cell_type": "markdown",
   "metadata": {},
   "source": [
    "__Remember__, When creating a new `Value` object using\n",
    "1. The `Class Value` we pass the `label` as an arguement to the class _but_,\n",
    "2. In the case of creating a new `Value` object using algebraic expression, we first write the expression lasting with the semicolon and then assign the `label` to the resulting `Value` object using `object.label = 'label_name'`. _Since_, Algebraic expressions like `a*b+c` create unlabeled intermediate `Value` objects during evaluation. Only after the full expression is assigned to `d` can `d.label` be set."
   ]
  },
  {
   "cell_type": "markdown",
   "metadata": {},
   "source": [
    "###### __Graph Generation__:\n",
    "Now, Getting into generating Graphs, For which we require a bit of scary code...\n",
    "\n",
    "__PreRequisites:__: To implement this section successfully, make sure that,\n",
    "1. You have _downloaded_ and _installed_ latest version of __Graphviz__ from [Graphviz's Website](https://graphviz.org/download/)\n",
    "2. You have checked an option during the process of installation i.e., \n",
    "   > Add Graphviz to the system PATH for all users\n",
    "3. Restarted Python Kernel of your system and selected the system's Python as the Interpreter.\n",
    "\n",
    "_Please note above mentioned points are all essential for smooth execution of this section._"
   ]
  },
  {
   "cell_type": "code",
   "execution_count": 9,
   "metadata": {},
   "outputs": [
    {
     "data": {
      "image/svg+xml": [
       "<?xml version=\"1.0\" encoding=\"UTF-8\" standalone=\"no\"?>\n",
       "<!DOCTYPE svg PUBLIC \"-//W3C//DTD SVG 1.1//EN\"\n",
       " \"http://www.w3.org/Graphics/SVG/1.1/DTD/svg11.dtd\">\n",
       "<!-- Generated by graphviz version 12.2.1 (20241206.2353)\n",
       " -->\n",
       "<!-- Pages: 1 -->\n",
       "<svg width=\"562pt\" height=\"127pt\"\n",
       " viewBox=\"0.00 0.00 562.25 127.00\" xmlns=\"http://www.w3.org/2000/svg\" xmlns:xlink=\"http://www.w3.org/1999/xlink\">\n",
       "<g id=\"graph0\" class=\"graph\" transform=\"scale(1 1) rotate(0) translate(4 123)\">\n",
       "<polygon fill=\"white\" stroke=\"none\" points=\"-4,4 -4,-123 558.25,-123 558.25,4 -4,4\"/>\n",
       "<!-- 3077308694608 -->\n",
       "<g id=\"node1\" class=\"node\">\n",
       "<title>3077308694608</title>\n",
       "<polygon fill=\"none\" stroke=\"black\" points=\"229.25,-27.5 229.25,-63.5 329.5,-63.5 329.5,-27.5 229.25,-27.5\"/>\n",
       "<text text-anchor=\"middle\" x=\"239.12\" y=\"-40.7\" font-family=\"Times New Roman,serif\" font-size=\"14.00\"> </text>\n",
       "<polyline fill=\"none\" stroke=\"black\" points=\"249,-28 249,-63.5\"/>\n",
       "<text text-anchor=\"middle\" x=\"289.25\" y=\"-40.7\" font-family=\"Times New Roman,serif\" font-size=\"14.00\">data&#45;2.0000</text>\n",
       "</g>\n",
       "<!-- 3077308700128+ -->\n",
       "<g id=\"node7\" class=\"node\">\n",
       "<title>3077308700128+</title>\n",
       "<ellipse fill=\"none\" stroke=\"black\" cx=\"392.5\" cy=\"-72.5\" rx=\"27\" ry=\"18\"/>\n",
       "<text text-anchor=\"middle\" x=\"392.5\" y=\"-67.45\" font-family=\"Times New Roman,serif\" font-size=\"14.00\">+</text>\n",
       "</g>\n",
       "<!-- 3077308694608&#45;&gt;3077308700128+ -->\n",
       "<g id=\"edge3\" class=\"edge\">\n",
       "<title>3077308694608&#45;&gt;3077308700128+</title>\n",
       "<path fill=\"none\" stroke=\"black\" d=\"M329.76,-57.5C338.43,-59.61 347.3,-61.76 355.52,-63.76\"/>\n",
       "<polygon fill=\"black\" stroke=\"black\" points=\"354.59,-67.13 365.14,-66.09 356.25,-60.33 354.59,-67.13\"/>\n",
       "</g>\n",
       "<!-- 3077308694608* -->\n",
       "<g id=\"node2\" class=\"node\">\n",
       "<title>3077308694608*</title>\n",
       "<ellipse fill=\"none\" stroke=\"black\" cx=\"166.25\" cy=\"-45.5\" rx=\"27\" ry=\"18\"/>\n",
       "<text text-anchor=\"middle\" x=\"166.25\" y=\"-40.45\" font-family=\"Times New Roman,serif\" font-size=\"14.00\">*</text>\n",
       "</g>\n",
       "<!-- 3077308694608*&#45;&gt;3077308694608 -->\n",
       "<g id=\"edge1\" class=\"edge\">\n",
       "<title>3077308694608*&#45;&gt;3077308694608</title>\n",
       "<path fill=\"none\" stroke=\"black\" d=\"M193.59,-45.5C200.99,-45.5 209.37,-45.5 217.9,-45.5\"/>\n",
       "<polygon fill=\"black\" stroke=\"black\" points=\"217.63,-49 227.63,-45.5 217.63,-42 217.63,-49\"/>\n",
       "</g>\n",
       "<!-- 3077308011712 -->\n",
       "<g id=\"node3\" class=\"node\">\n",
       "<title>3077308011712</title>\n",
       "<polygon fill=\"none\" stroke=\"black\" points=\"2.62,-55.5 2.62,-91.5 100.62,-91.5 100.62,-55.5 2.62,-55.5\"/>\n",
       "<text text-anchor=\"middle\" x=\"13.62\" y=\"-68.7\" font-family=\"Times New Roman,serif\" font-size=\"14.00\">a</text>\n",
       "<polyline fill=\"none\" stroke=\"black\" points=\"24.62,-56 24.62,-91.5\"/>\n",
       "<text text-anchor=\"middle\" x=\"62.62\" y=\"-68.7\" font-family=\"Times New Roman,serif\" font-size=\"14.00\">data2.0000</text>\n",
       "</g>\n",
       "<!-- 3077308011712&#45;&gt;3077308694608* -->\n",
       "<g id=\"edge5\" class=\"edge\">\n",
       "<title>3077308011712&#45;&gt;3077308694608*</title>\n",
       "<path fill=\"none\" stroke=\"black\" d=\"M101.04,-61.46C110.6,-59.09 120.47,-56.63 129.51,-54.38\"/>\n",
       "<polygon fill=\"black\" stroke=\"black\" points=\"130.12,-57.84 138.98,-52.03 128.43,-51.05 130.12,-57.84\"/>\n",
       "</g>\n",
       "<!-- 3077308513168 -->\n",
       "<g id=\"node4\" class=\"node\">\n",
       "<title>3077308513168</title>\n",
       "<polygon fill=\"none\" stroke=\"black\" points=\"230.38,-82.5 230.38,-118.5 328.38,-118.5 328.38,-82.5 230.38,-82.5\"/>\n",
       "<text text-anchor=\"middle\" x=\"241.38\" y=\"-95.7\" font-family=\"Times New Roman,serif\" font-size=\"14.00\">c</text>\n",
       "<polyline fill=\"none\" stroke=\"black\" points=\"252.38,-83 252.38,-118.5\"/>\n",
       "<text text-anchor=\"middle\" x=\"290.38\" y=\"-95.7\" font-family=\"Times New Roman,serif\" font-size=\"14.00\">data3.0000</text>\n",
       "</g>\n",
       "<!-- 3077308513168&#45;&gt;3077308700128+ -->\n",
       "<g id=\"edge4\" class=\"edge\">\n",
       "<title>3077308513168&#45;&gt;3077308700128+</title>\n",
       "<path fill=\"none\" stroke=\"black\" d=\"M328.79,-88.3C337.8,-86.03 347.06,-83.7 355.61,-81.54\"/>\n",
       "<polygon fill=\"black\" stroke=\"black\" points=\"356.42,-84.95 365.27,-79.11 354.71,-78.16 356.42,-84.95\"/>\n",
       "</g>\n",
       "<!-- 3077308010416 -->\n",
       "<g id=\"node5\" class=\"node\">\n",
       "<title>3077308010416</title>\n",
       "<polygon fill=\"none\" stroke=\"black\" points=\"0,-0.5 0,-36.5 103.25,-36.5 103.25,-0.5 0,-0.5\"/>\n",
       "<text text-anchor=\"middle\" x=\"11.38\" y=\"-13.7\" font-family=\"Times New Roman,serif\" font-size=\"14.00\">b</text>\n",
       "<polyline fill=\"none\" stroke=\"black\" points=\"22.75,-1 22.75,-36.5\"/>\n",
       "<text text-anchor=\"middle\" x=\"63\" y=\"-13.7\" font-family=\"Times New Roman,serif\" font-size=\"14.00\">data&#45;1.0000</text>\n",
       "</g>\n",
       "<!-- 3077308010416&#45;&gt;3077308694608* -->\n",
       "<g id=\"edge6\" class=\"edge\">\n",
       "<title>3077308010416&#45;&gt;3077308694608*</title>\n",
       "<path fill=\"none\" stroke=\"black\" d=\"M103.67,-30.74C112.37,-32.82 121.24,-34.95 129.44,-36.92\"/>\n",
       "<polygon fill=\"black\" stroke=\"black\" points=\"128.49,-40.29 139.03,-39.21 130.12,-33.48 128.49,-40.29\"/>\n",
       "</g>\n",
       "<!-- 3077308700128 -->\n",
       "<g id=\"node6\" class=\"node\">\n",
       "<title>3077308700128</title>\n",
       "<polygon fill=\"none\" stroke=\"black\" points=\"455.5,-54.5 455.5,-90.5 554.25,-90.5 554.25,-54.5 455.5,-54.5\"/>\n",
       "<text text-anchor=\"middle\" x=\"466.88\" y=\"-67.7\" font-family=\"Times New Roman,serif\" font-size=\"14.00\">d</text>\n",
       "<polyline fill=\"none\" stroke=\"black\" points=\"478.25,-55 478.25,-90.5\"/>\n",
       "<text text-anchor=\"middle\" x=\"516.25\" y=\"-67.7\" font-family=\"Times New Roman,serif\" font-size=\"14.00\">data1.0000</text>\n",
       "</g>\n",
       "<!-- 3077308700128+&#45;&gt;3077308700128 -->\n",
       "<g id=\"edge2\" class=\"edge\">\n",
       "<title>3077308700128+&#45;&gt;3077308700128</title>\n",
       "<path fill=\"none\" stroke=\"black\" d=\"M419.94,-72.5C427.22,-72.5 435.42,-72.5 443.78,-72.5\"/>\n",
       "<polygon fill=\"black\" stroke=\"black\" points=\"443.68,-76 453.68,-72.5 443.68,-69 443.68,-76\"/>\n",
       "</g>\n",
       "</g>\n",
       "</svg>\n"
      ],
      "text/plain": [
       "<graphviz.graphs.Digraph at 0x2cc7da25bb0>"
      ]
     },
     "execution_count": 9,
     "metadata": {},
     "output_type": "execute_result"
    }
   ],
   "source": [
    "from graphviz import Digraph\n",
    "#Enumerates all the nodes and edges -> builds a set for them\n",
    "def trace(root):\n",
    "    #builds a set of all nodes and edges in a graph\n",
    "    nodes,edges=set(),set()\n",
    "    def build(v):\n",
    "        if v not in nodes:\n",
    "            nodes.add(v)\n",
    "            for child in v._prev:\n",
    "                edges.add((child, v))\n",
    "                build(child)\n",
    "    build(root)\n",
    "    return nodes,edges\n",
    "#Draw the graph\n",
    "def draw_dot(root):\n",
    "    dot=Digraph(format='svg',graph_attr={'rankdir':'LR'})# LR = left to right\n",
    "    nodes,edges=trace(root)\n",
    "    for n in nodes:\n",
    "        uid=str(id(n))\n",
    "        #for any value in the graph, create a rectangular ('record') node for it\n",
    "        dot.node(name=uid,label=\"{%s|data%.4f}\"%(n.label,n.data),shape='record')\n",
    "        if n._op:\n",
    "          # if this value is a result of some operation, create an op node for it\n",
    "          dot.node(name=uid+n._op,label=n._op)\n",
    "          # and connect this node to it\n",
    "          dot.edge(uid+n._op,uid)\n",
    "    for n1,n2 in edges:\n",
    "        # connect n1 to the op node of n2\n",
    "        dot.edge(str(id(n1)),str(id(n2))+n2._op)\n",
    "    return dot\n",
    "draw_dot(d)"
   ]
  }
 ],
 "metadata": {
  "kernelspec": {
   "display_name": "Python 3",
   "language": "python",
   "name": "python3"
  },
  "language_info": {
   "codemirror_mode": {
    "name": "ipython",
    "version": 3
   },
   "file_extension": ".py",
   "mimetype": "text/x-python",
   "name": "python",
   "nbconvert_exporter": "python",
   "pygments_lexer": "ipython3",
   "version": "3.12.6"
  }
 },
 "nbformat": 4,
 "nbformat_minor": 2
}
