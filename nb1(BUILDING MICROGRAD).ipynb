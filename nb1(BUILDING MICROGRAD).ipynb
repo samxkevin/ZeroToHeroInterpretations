{
 "cells": [
  {
   "cell_type": "markdown",
   "metadata": {},
   "source": [
    "Interpretation For the First Video: \n",
    "[The spelled-out intro to neural networks and backpropagation: building micrograd](https://youtu.be/VMj-3S1tku0?si=8FQ4c7gDBBAXCdci)\n",
    "\n",
    "This notebook has been created upon the suggestion by Neil sir to go throught the Andrej Kaparthy video regarding Neural Networks.\n",
    "\n",
    "Let's Title this notebook as:\n",
    "\n",
    "# __BUILDING MICROGRAD__ \n",
    "_as it fits the video..._\n",
    "\n",
    "### __Takeaways__:\n",
    "By the end of this notebook (accompanying the video), we will understand:\n",
    "\n",
    "- The basic structure and purpose of neural networks.\n",
    "- How to define and train a neural network using Micrograd.\n",
    "- The step-by-step process of backpropagation and how it tunes weights.\n",
    "- How an autograd engine works and its role in gradient calculation.\n",
    "- Practical application and experimentation using Micrograd’s minimalistic approach."
   ]
  },
  {
   "cell_type": "code",
   "execution_count": null,
   "metadata": {},
   "outputs": [],
   "source": [
    "import os\n",
    "import math\n",
    "import torch\n",
    "import numpy as np\n",
    "import matplotlib.pyplot as plt\n",
    "%matplotlib inline"
   ]
  }
 ],
 "metadata": {
  "kernelspec": {
   "display_name": ".venv",
   "language": "python",
   "name": "python3"
  },
  "language_info": {
   "name": "python",
   "version": "3.12.2"
  }
 },
 "nbformat": 4,
 "nbformat_minor": 2
}
